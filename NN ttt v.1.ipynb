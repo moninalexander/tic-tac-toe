{
 "cells": [
  {
   "cell_type": "markdown",
   "metadata": {},
   "source": [
    "# Tic Tac Toe\n",
    "\n",
    "Given rules of the game we want to use a version of genetic algorithm to train our model for playing ttt."
   ]
  },
  {
   "cell_type": "markdown",
   "metadata": {},
   "source": [
    "## The idea\n",
    "\n",
    "- Any state of the board is represented by a vector in $\\mathbb R^9$. Although it seems natural for the case at hand, we may keep in mind to investigate $\\mathbb R^n$. \n",
    "    - What is this representation?\n",
    "    - Is it a good idea to represent empty slots with 0's?\n",
    "    - Should one use bitwise operators instead?\n",
    "- Every player (strategy) is a set of weights, biases (matrices) $W$ and $b$. It takes a state as an input and decides where to make a move. The output is also $\\mathbb R^9$.\n",
    "- We start with just one layer, meaning that we have $$W = (9\\times 9), ~~ \\text{and} ~~ b=(9\\times 1).$$\n",
    "- At the very beginning (generation 0) we generate randomly a population of $N$ players, i.e. a set of pairs $(W_i,b_i)$, with $i=1,\\dots,N$, and let them play against each other (there are $N(N-1)$ games in total).\n",
    "- We score them somehow according to their performance in this competition. They get to reproduce according to their score. First $N_{best}$ cross-bread leaving offsprings. To complete new generation there are several options:\n",
    "    1. We add $N_{rand}$ new (random) players.\n",
    "    2. We randomly choose several lucky ones among the rest and let them reproduce as well.\n",
    "    3. We cross-bread all with all and chose randomly a number of lucky offsprings."
   ]
  },
  {
   "cell_type": "markdown",
   "metadata": {},
   "source": [
    "## Implementation"
   ]
  },
  {
   "cell_type": "markdown",
   "metadata": {},
   "source": [
    "### Importing necessary packages"
   ]
  },
  {
   "cell_type": "code",
   "execution_count": 1,
   "metadata": {},
   "outputs": [],
   "source": [
    "%matplotlib inline\n",
    "%matplotlib nbagg\n",
    "\n",
    "import numpy as np\n",
    "#import csv\n",
    "from IPython.display import clear_output\n",
    "from decimal import *\n",
    "\n",
    "import matplotlib.pyplot as plt\n",
    "#from sklearn.neural_network import MLPClassifier\n",
    "#from sklearn.model_selection import train_test_split\n",
    "\n",
    "plt.rcParams[\"figure.figsize\"] = (8, 8)\n",
    "plt.rcParams[\"font.size\"] = 14"
   ]
  },
  {
   "cell_type": "markdown",
   "metadata": {},
   "source": [
    "### Definitions\n",
    "All classes and functions taking field as an argument consider it as $(9\\times1)$ vector (not $(3\\times3)$ matrix)"
   ]
  },
  {
   "cell_type": "code",
   "execution_count": 75,
   "metadata": {},
   "outputs": [],
   "source": [
    "def sigmoid(x):\n",
    "    return 1/(1+np.exp(-x))\n",
    "       \n",
    "class strategy: # Players knowing that going in the occupied slot is forbidden\n",
    "    def __init__(self,weights,biases,mutation_rate=0,name=None): # Is mutation rate just learning rate?\n",
    "        self.weights=weights\n",
    "        self.biases=biases\n",
    "        self.name=name\n",
    "        self.mutation_rate=mutation_rate\n",
    "        \n",
    "    def intensity(self,field): # Given the state of field it computes probability for every move using weights and biases\n",
    "        n_layers=len(self.biases)\n",
    "        x_in=field\n",
    "        for counter in range(n_layers):\n",
    "            argument=np.matmul(self.weights[counter],x_in)+self.biases[counter]\n",
    "            x_in=sigmoid(argument)\n",
    "        return argument\n",
    "\n",
    "    \n",
    "    def occupied_q(self,field,slot): # Checks is a particular slot is occupied\n",
    "        return field[slot]\n",
    "    \n",
    "    def whereto(self,field,one_hot=True): # Decides where to make the next move by finding the maximal intensity among unoccupied slots\n",
    "        sorted_args=np.argsort(self.intensity(field))[::-1]\n",
    "        number=0\n",
    "        while self.occupied_q(field,sorted_args[number]):\n",
    "            number=number+1\n",
    "            \n",
    "        if not one_hot:\n",
    "            return sorted_args[number]\n",
    "        else:\n",
    "            return np.eye(9)[sorted_args[number]]\n",
    "\n",
    "class history: # Used for keeping track of evolution\n",
    "    def __init__(self,names_all=np.array([]),names_best=np.array([]),scores_all=np.array([]),scores_best=np.array([])):\n",
    "        #self.weights=weights\n",
    "        #self.biases=biases\n",
    "        self.scores_all=scores_all\n",
    "        self.scores_best=scores_best\n",
    "        self.names_all=names_all\n",
    "        self.names_best=names_best\n",
    "        #self.generation=generation\n",
    "        \n",
    "def winner_q(field):\n",
    "    \n",
    "    reward=np.array([2,-1]) # 2 points for winning and -1 point for losing\n",
    "    field=field.reshape((3,3))\n",
    "    plus=np.array([1,1,1])\n",
    "    minus=np.array([-1,-1,-1])\n",
    "    def indicator(vec):\n",
    "        return ((field[0]==vec).all() or (field[1]==vec).all() or (field[2]==vec).all() \n",
    "            or (field.T[0]==vec).all() or (field.T[1]==vec).all() or (field.T[2]==vec).all() \n",
    "            or (np.diag(field)==vec).all() or (np.diag(np.fliplr(field))==vec).all())    \n",
    "    if indicator(plus):\n",
    "        return reward\n",
    "    elif indicator(minus):\n",
    "        return reward[::-1]\n",
    "    else:\n",
    "        return np.array([0,0])\n",
    "    \n",
    "def game(strat1,strat2,verbose=False):\n",
    "    \n",
    "    if verbose:\n",
    "        field=np.zeros(9)\n",
    "        counter=0\n",
    "        while (not (winner_q(field)).any()) and counter<10:\n",
    "            print('Step 1: \\n')\n",
    "            print(strat1.intensity(field))\n",
    "            field=field+strat1.whereto(field)\n",
    "            counter=counter+1\n",
    "            print(field.reshape((3,3)))\n",
    "            if (winner_q(field)).any() or counter>8:\n",
    "                break\n",
    "            print(strat2.intensity(field))\n",
    "            field=field-strat2.whereto(field)\n",
    "            counter=counter+1\n",
    "            print(field.reshape((3,3)))\n",
    "    else:\n",
    "        field=np.zeros(9)\n",
    "        counter=0\n",
    "        while (not (winner_q(field)).any()) and counter<10:\n",
    "            field=field+strat1.whereto(field)\n",
    "            counter=counter+1\n",
    "            if (winner_q(field)).any() or counter>8:\n",
    "                break\n",
    "            field=field-strat2.whereto(field)\n",
    "            counter=counter+1\n",
    "#         if winner_q(field)[0]>0:\n",
    "#             print('Player',strat1.name,'wins against',strat2.name)\n",
    "#         elif winner_q(field)[0]<0:\n",
    "#             print('Player',strat1.name,'loses against',strat2.name)\n",
    "#         else:\n",
    "#             print('It is a tie in:',strat1.name,'vs.',strat2.name)\n",
    "        return winner_q(field)\n",
    "\n",
    "\n",
    "def offspring(strat1,strat2,rel_score):\n",
    "    \n",
    "    w1=strat1.weights\n",
    "    b1=strat1.biases\n",
    "    name1=strat1.name\n",
    "    mr1=strat1.mutation_rate\n",
    "    \n",
    "    shape_w=w1.shape\n",
    "    shape_b=b1.shape\n",
    "    \n",
    "    noise1_w=(2*np.random.random(shape_w)-1)*mr1\n",
    "    noise1_b=(2*np.random.random(shape_b)-1)*mr1\n",
    "    frac1=rel_score/(1+rel_score)\n",
    "    \n",
    "    w2=strat2.weights\n",
    "    b2=strat2.biases\n",
    "    name2=strat2.name\n",
    "    mr2=strat2.mutation_rate\n",
    "    \n",
    "    noise2_w=(2*np.random.random(shape_w)-1)*mr2\n",
    "    noise2_b=(2*np.random.random(shape_b)-1)*mr2\n",
    "    frac2=1-frac1\n",
    "    \n",
    "    new_weights=w1*(1+noise1_w)*frac1+w2*(1+noise2_w)*frac2\n",
    "    new_biases=b1*(1+noise1_b)*frac1+b2*(1+noise2_b)*frac2\n",
    "    new_mr=mr1*frac1+mr2*frac2\n",
    "#     new_name='('+name1+','+name2+')'\n",
    "    \n",
    "    \n",
    "    if rel_score>=1:\n",
    "        new_name=strat1.name\n",
    "    else:\n",
    "        new_name=strat2.name\n",
    "    \n",
    "    return strategy(weights=new_weights,biases=new_biases,name=new_name,mutation_rate=new_mr)\n",
    "\n",
    "\n",
    "\n",
    "def mutation_const_rate(strat,indx):\n",
    "    \n",
    "    w=strat.weights\n",
    "    b=strat.biases\n",
    "    mr=strat.mutation_rate\n",
    "    noise_w=(2*np.random.random(w.shape)-1)*mr\n",
    "    noise_b=(2*np.random.random(b.shape)-1)*mr\n",
    "    \n",
    "    new_weights=w*(1+noise_w)\n",
    "    new_biases=b*(1+noise_b)\n",
    "    new_mr=mr\n",
    "    new_name=str(indx)\n",
    "    \n",
    "    return strategy(weights=new_weights,biases=new_biases,name=new_name,mutation_rate=new_mr)\n",
    "\n",
    "\n",
    "\n",
    "\n",
    "def get_names(players):\n",
    "    names=np.array([])\n",
    "    for player in players:\n",
    "        names=np.append(names,player.name)\n",
    "    return names\n",
    "\n",
    "\n",
    "def tournament(players):\n",
    "    scores=np.zeros(num_players) # Initialize scores with zeros\n",
    "    for counter1 in range(num_players):\n",
    "        for counter2 in range(num_players):\n",
    "            match=game(players[counter1],players[counter2])\n",
    "            scores[counter1]+=match[0]\n",
    "            scores[counter2]+=match[1]\n",
    "#             clear_output(wait=True)\n",
    "#             print('Games played: %',int(10**4*(counter1*num_players+counter2+1)/num_players**2)/100)\n",
    "#             print('Players: ',players[counter1].name,players[counter2].name)\n",
    "#             print(scores[players[counter1].name])\n",
    "#             print(scores[players[counter2].name],'\\n')\n",
    "    return scores\n",
    "\n",
    "\n",
    "def new_gen_random(players): # Returns new batch of players and scores of the current generation\n",
    "    names=get_names(players)\n",
    "    print(names)\n",
    "    scores=tournament(players)\n",
    "    print(scores)\n",
    "    scores_dict=np.stack((names,scores))\n",
    "    \n",
    "    ind_sorted=np.argsort(scores)\n",
    "    best_performers=players[ind_sorted[num_players-num_best::]][::-1] # Descedning order\n",
    "    \n",
    "    names_best=get_names(best_performers) # Descending order\n",
    "    #print(names_best)\n",
    "    scores_best=scores[ind_sorted[num_players-num_best::]][::-1] #Descending order\n",
    "    #print(scores_best)\n",
    "    best_scores_dict=np.stack((names_best,scores_best))\n",
    "    \n",
    "    \n",
    "    elite_offsprings=np.array([])\n",
    "    for counter1 in range(num_best):\n",
    "        for counter2 in range(counter1,num_best):\n",
    "            player1=best_performers[counter1]\n",
    "            player2=best_performers[counter2]            \n",
    "            ratio=scores_best[counter1]/scores_best[counter2]\n",
    "            elite_offsprings=np.append(elite_offsprings,offspring(player1,player2,ratio))\n",
    "    \n",
    "    \n",
    "    random_choice=np.array([strategy(weights=2*np.random.random((num_layers,9,9))-1,\n",
    "                           biases=2*np.random.random((num_layers,9))-1,\n",
    "                           mutation_rate=0,\n",
    "                           name=str(i)) for i in range(num_players+num_random*generation,num_players+num_random*(generation+1))])\n",
    "    return np.append(elite_offsprings,random_choice),scores_dict,best_performers,best_scores_dict\n",
    "\n",
    "\n",
    "\n",
    "def new_gen_fromone(players): # Returns new batch of players and scores of the current generation\n",
    "    \n",
    "    scores=tournament(players)\n",
    "    #print(scores)\n",
    "    index=np.argmax(scores)\n",
    "    \n",
    "    parent=players[index]\n",
    "        \n",
    "    return np.append(parent,np.array([mutation_const_rate(parent,index) for _ in range(num_players-1)])),scores"
   ]
  },
  {
   "cell_type": "markdown",
   "metadata": {},
   "source": [
    "### Generate initial batch of players"
   ]
  },
  {
   "cell_type": "code",
   "execution_count": 250,
   "metadata": {},
   "outputs": [
    {
     "name": "stdout",
     "output_type": "stream",
     "text": [
      "6\n",
      "9\n"
     ]
    }
   ],
   "source": [
    "np.random.seed(0)\n",
    "num_best=3\n",
    "num_random=3\n",
    "num_players=np.int(num_best*(num_best+1)/2)+num_random\n",
    "num_layers=2\n",
    "generation=0\n",
    "\n",
    "players=np.array([strategy(weights=2*np.random.random((num_layers,9,9))-1,\n",
    "                           biases=2*np.random.random((num_layers,9))-1,\n",
    "                           mutation_rate=0.3,\n",
    "                           name=str(i)) for i in range(num_players)])\n",
    "hist=history(names_all=get_names(players))\n",
    "\n",
    "threshold=2*num_random\n",
    "print(threshold)\n",
    "print(num_players)"
   ]
  },
  {
   "cell_type": "markdown",
   "metadata": {},
   "source": [
    "### Best players crossbreading + random"
   ]
  },
  {
   "cell_type": "code",
   "execution_count": 77,
   "metadata": {},
   "outputs": [
    {
     "name": "stdout",
     "output_type": "stream",
     "text": [
      "['0' '1' '2' '3' '4' '5' '6' '7' '8']\n",
      "[13.  6. 17.  4.  8.  7. 10.  5.  1.]\n",
      "[['2' '17.0']\n",
      " ['0' '13.0']\n",
      " ['6' '10.0']]\n",
      "['2' '2' '2' '0' '0' '6' '9' '10' '11']\n",
      "1\n"
     ]
    }
   ],
   "source": [
    "for counter in range(1):\n",
    "    players,current_scores,best_strategies,best_scores=new_gen_random(players)\n",
    "    generation=generation+1\n",
    "    #hist.names_all=np.append(hist.names_all,get_names(players))\n",
    "    #hist.scores_all=np.append(hist.scores_all,gen_score)\n",
    "    #hist.names_best=np.append(hist.names_best,get_names(best_strategies))\n",
    "    #hist.scores_best=np.append(hist.scores_best,best_scores)\n",
    "    print(best_scores.T)\n",
    "    print(get_names(players))\n",
    "print(generation)"
   ]
  },
  {
   "cell_type": "markdown",
   "metadata": {},
   "source": [
    "### One parent mutations"
   ]
  },
  {
   "cell_type": "code",
   "execution_count": 252,
   "metadata": {},
   "outputs": [],
   "source": [
    "best0=players[0]"
   ]
  },
  {
   "cell_type": "code",
   "execution_count": 253,
   "metadata": {},
   "outputs": [
    {
     "name": "stdout",
     "output_type": "stream",
     "text": [
      "101\n"
     ]
    }
   ],
   "source": [
    "for _ in range(100):\n",
    "    #print(get_names(players))\n",
    "    players,scores=new_gen_fromone(players)\n",
    "    #print(scores,'\\n')\n",
    "    generation+=1\n",
    "print(generation)"
   ]
  },
  {
   "cell_type": "code",
   "execution_count": 249,
   "metadata": {},
   "outputs": [
    {
     "name": "stdout",
     "output_type": "stream",
     "text": [
      "Current best:\n",
      "[[ 1.  0.  1.]\n",
      " [ 1. -1.  0.]\n",
      " [-1. -1.  1.]] \n",
      "\n"
     ]
    }
   ],
   "source": [
    "field=np.array([[1,0,1],\n",
    "                [1,-1,0],\n",
    "                [-1,-1,0]])\n",
    "print('Current best:')\n",
    "print(field+players[0].whereto(field.reshape(-1)).reshape(3,-1),'\\n')\n",
    "\n",
    "#print('Initial best:')\n",
    "#print(field+best0.whereto(field.reshape(-1)).reshape(3,-1))"
   ]
  },
  {
   "cell_type": "code",
   "execution_count": null,
   "metadata": {},
   "outputs": [],
   "source": []
  },
  {
   "cell_type": "code",
   "execution_count": 27,
   "metadata": {},
   "outputs": [
    {
     "name": "stdout",
     "output_type": "stream",
     "text": [
      "[ 0.84955189 -1.07961474  0.27725177  1.08092424  1.3713455  -0.37533411\n",
      "  1.40599152 -1.115399   -0.25129812]\n",
      "[ 0.94643846 -0.8386913   0.29870048  0.80525908  1.73803349 -0.39658534\n",
      "  1.31436656 -1.56768852 -0.33094924]\n",
      "6\n",
      "6\n",
      "4\n"
     ]
    }
   ],
   "source": [
    "field=np.array([[0,0,0],\n",
    "                [-1,-1,0],\n",
    "                [0,1,1]])\n",
    "print(players[0].intensity(field.reshape(9)))\n",
    "print(players[3].intensity(field.reshape(9)))\n",
    "print(np.argmax(players[0].intensity(field.reshape(9))))\n",
    "print(np.argmax(players[2].intensity(field.reshape(9))))\n",
    "print(np.argmax(players[8].intensity(field.reshape(9))))"
   ]
  },
  {
   "cell_type": "code",
   "execution_count": null,
   "metadata": {},
   "outputs": [],
   "source": []
  },
  {
   "cell_type": "code",
   "execution_count": 11,
   "metadata": {},
   "outputs": [
    {
     "data": {
      "text/plain": [
       "array([[ 0.,  0.,  0.],\n",
       "       [-1., -1.,  1.],\n",
       "       [ 0.,  1.,  1.]])"
      ]
     },
     "execution_count": 11,
     "metadata": {},
     "output_type": "execute_result"
    }
   ],
   "source": [
    "field=np.array([[0,0,0],\n",
    "                [-1,-1,0],\n",
    "                [0,1,1]])\n",
    "field+best_strategies[0].whereto(field.reshape(-1)).reshape(3,-1)"
   ]
  },
  {
   "cell_type": "code",
   "execution_count": 322,
   "metadata": {},
   "outputs": [
    {
     "name": "stdout",
     "output_type": "stream",
     "text": [
      "1\n",
      "2\n"
     ]
    }
   ],
   "source": [
    "alpha=3\n",
    "\n",
    "field=np.array([[1,0,0],\n",
    "                [1,-1,-1],\n",
    "                [-1,0,1]])\n",
    "\n",
    "strat1=strategy(weights=w,biases=b)\n",
    "strat2=strategy(weights=w+alpha*diff_w,biases=b+alpha*diff_b)\n",
    "\n",
    "print(strat1.whereto(field.reshape(9),one_hot=False))\n",
    "print(strat2.whereto(field.reshape(9),one_hot=False))"
   ]
  },
  {
   "cell_type": "code",
   "execution_count": null,
   "metadata": {},
   "outputs": [],
   "source": []
  },
  {
   "cell_type": "code",
   "execution_count": null,
   "metadata": {},
   "outputs": [],
   "source": []
  },
  {
   "cell_type": "code",
   "execution_count": null,
   "metadata": {},
   "outputs": [],
   "source": []
  },
  {
   "cell_type": "code",
   "execution_count": null,
   "metadata": {},
   "outputs": [],
   "source": []
  },
  {
   "cell_type": "code",
   "execution_count": null,
   "metadata": {},
   "outputs": [],
   "source": []
  }
 ],
 "metadata": {
  "kernelspec": {
   "display_name": "Python 3",
   "language": "python",
   "name": "python3"
  },
  "language_info": {
   "codemirror_mode": {
    "name": "ipython",
    "version": 3
   },
   "file_extension": ".py",
   "mimetype": "text/x-python",
   "name": "python",
   "nbconvert_exporter": "python",
   "pygments_lexer": "ipython3",
   "version": "3.7.3"
  }
 },
 "nbformat": 4,
 "nbformat_minor": 2
}
